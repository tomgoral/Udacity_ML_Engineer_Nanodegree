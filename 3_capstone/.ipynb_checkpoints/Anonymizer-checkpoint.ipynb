{
 "cells": [
  {
   "cell_type": "markdown",
   "metadata": {},
   "source": [
    "# DATA ANONYMIZER\n",
    "\n",
    "This notebook reads the product specific data of a larger file and  anonymizes the details by removing detailed categorical labels and replacing them with generic altenarnatives.  This allows me to work on a project I am passionate for this course and receive feedback without divulging confidential information."
   ]
  },
  {
   "cell_type": "markdown",
   "metadata": {},
   "source": [
    "## READ RAW DATA\n",
    "A database specific to current products, their features and costs does not exist; however a much broader operations profitability file is published that can be repurposed. I will use a portion of this file to train and test my cost predictor! The upside of this file is each record or row contains categorical and numeric data. The downside is that a row may contain product, service, or customer data. This means each row is not useful. There are also many empty cells. This is a very large file of 460 columns and 55,000 rows."
   ]
  },
  {
   "cell_type": "code",
   "execution_count": 2,
   "metadata": {},
   "outputs": [],
   "source": [
    "# Custom Libraries\n",
    "from tmgLibrary_01 import column_metrics, hist_plot, print_metrics, segment,xl2df\n",
    "\n",
    "# Standard Libraries\n",
    "import numpy as np\n",
    "import pandas as pd\n",
    "import os\n",
    "\n",
    "from timeit import default_timer as timer\n",
    "import datetime\n",
    "now = datetime.datetime.now()"
   ]
  },
  {
   "cell_type": "code",
   "execution_count": 3,
   "metadata": {},
   "outputs": [
    {
     "name": "stdout",
     "output_type": "stream",
     "text": [
      "\n",
      "reading file: raw.xlsx , sheet: raw, index_col: 0\n",
      "loaded File raw.xlsx in 321 seconds\n",
      "rows: 55140, cols: 28, cells: 1543920\n",
      "\n"
     ]
    }
   ],
   "source": [
    "df = xl2df('raw.xlsx','raw',0)   "
   ]
  },
  {
   "cell_type": "code",
   "execution_count": 4,
   "metadata": {
    "scrolled": true
   },
   "outputs": [
    {
     "data": {
      "text/plain": [
       "desc      14302\n",
       "sub        8443\n",
       "cpn        6340\n",
       "plate      5976\n",
       "heat       5944\n",
       "nom        5925\n",
       "lock       5924\n",
       "head       5811\n",
       "point      5724\n",
       "thread     5706\n",
       "drive      5688\n",
       "assy       5552\n",
       "mm         5431\n",
       "cost        784\n",
       "osp         784\n",
       "ohead       784\n",
       "matl        784\n",
       "lab         784\n",
       "bur         784\n",
       "lb          687\n",
       "class       681\n",
       "price       261\n",
       "btn           0\n",
       "cust          0\n",
       "stn           0\n",
       "ops           0\n",
       "qty           0\n",
       "apn           0\n",
       "dtype: int64"
      ]
     },
     "execution_count": 4,
     "metadata": {},
     "output_type": "execute_result"
    }
   ],
   "source": [
    "# missing data\n",
    "df.isnull().sum().sort_values(ascending=False)"
   ]
  },
  {
   "cell_type": "code",
   "execution_count": 6,
   "metadata": {},
   "outputs": [
    {
     "name": "stdout",
     "output_type": "stream",
     "text": [
      "<class 'pandas.core.frame.DataFrame'>\n",
      "Int64Index: 55140 entries, 1 to 55140\n",
      "Data columns (total 28 columns):\n",
      "apn       55140 non-null object\n",
      "desc      40838 non-null object\n",
      "ops       55140 non-null object\n",
      "cpn       48800 non-null object\n",
      "cust      55140 non-null object\n",
      "btn       55140 non-null object\n",
      "stn       55140 non-null object\n",
      "bur       54356 non-null float64\n",
      "lab       54356 non-null float64\n",
      "matl      54356 non-null float64\n",
      "ohead     54356 non-null float64\n",
      "osp       54356 non-null float64\n",
      "cost      54356 non-null float64\n",
      "price     54879 non-null float64\n",
      "lb        54453 non-null float64\n",
      "qty       55140 non-null float64\n",
      "class     54459 non-null object\n",
      "sub       46697 non-null object\n",
      "assy      49588 non-null object\n",
      "head      49329 non-null object\n",
      "drive     49452 non-null object\n",
      "thread    49434 non-null object\n",
      "mm        49709 non-null float64\n",
      "nom       49215 non-null object\n",
      "point     49416 non-null object\n",
      "heat      49196 non-null object\n",
      "lock      49216 non-null object\n",
      "plate     49164 non-null object\n",
      "dtypes: float64(10), object(18)\n",
      "memory usage: 12.2+ MB\n"
     ]
    }
   ],
   "source": [
    "df.info()"
   ]
  },
  {
   "cell_type": "code",
   "execution_count": 7,
   "metadata": {},
   "outputs": [],
   "source": [
    "df['qty']=df['qty'].astype(int)\n",
    "all_columns = df.columns.tolist()"
   ]
  },
  {
   "cell_type": "markdown",
   "metadata": {},
   "source": [
    "## FOCUS ON PERTINENT DATA\n",
    "\n",
    "* RAW INPUT DATA\n",
    "    * rows   = 55140\n",
    "    * cols   = 28\n",
    "    * cells: = 1,543,920\n",
    "\n",
    "I restricted 460 available columns down to 28 because most of columns are operations rather than product focused. I further restricted this to 15 columns to maintain the confidentiality of each part while providing key product features data required for a cost predictor.  This still leaves me with a significant data set."
   ]
  },
  {
   "cell_type": "code",
   "execution_count": 8,
   "metadata": {},
   "outputs": [],
   "source": [
    "feat_label =  ['class', 'sub', 'assy','head', 'drive', 'thread', 'nom', 'point', 'heat', 'lock', 'plate']\n",
    "\n",
    "feat_value =  ['qty', 'mm']\n",
    "\n",
    "response   = 'cost'"
   ]
  },
  {
   "cell_type": "markdown",
   "metadata": {},
   "source": [
    "##  RELABEL CATEGORICAL FEATURES FOR CONFIDENTIALITY"
   ]
  },
  {
   "cell_type": "code",
   "execution_count": 9,
   "metadata": {},
   "outputs": [
    {
     "data": {
      "text/html": [
       "<div>\n",
       "<style scoped>\n",
       "    .dataframe tbody tr th:only-of-type {\n",
       "        vertical-align: middle;\n",
       "    }\n",
       "\n",
       "    .dataframe tbody tr th {\n",
       "        vertical-align: top;\n",
       "    }\n",
       "\n",
       "    .dataframe thead th {\n",
       "        text-align: right;\n",
       "    }\n",
       "</style>\n",
       "<table border=\"1\" class=\"dataframe\">\n",
       "  <thead>\n",
       "    <tr style=\"text-align: right;\">\n",
       "      <th></th>\n",
       "      <th>class</th>\n",
       "      <th>sub</th>\n",
       "      <th>assy</th>\n",
       "      <th>head</th>\n",
       "      <th>drive</th>\n",
       "      <th>thread</th>\n",
       "      <th>nom</th>\n",
       "      <th>point</th>\n",
       "      <th>heat</th>\n",
       "      <th>lock</th>\n",
       "      <th>plate</th>\n",
       "      <th>qty</th>\n",
       "      <th>mm</th>\n",
       "      <th>cost</th>\n",
       "    </tr>\n",
       "  </thead>\n",
       "  <tbody>\n",
       "    <tr>\n",
       "      <th>1</th>\n",
       "      <td>class_8</td>\n",
       "      <td>NaN</td>\n",
       "      <td>assy_4</td>\n",
       "      <td>NaN</td>\n",
       "      <td>NaN</td>\n",
       "      <td>NaN</td>\n",
       "      <td>NaN</td>\n",
       "      <td>NaN</td>\n",
       "      <td>NaN</td>\n",
       "      <td>NaN</td>\n",
       "      <td>NaN</td>\n",
       "      <td>0</td>\n",
       "      <td>0.00</td>\n",
       "      <td>0.05791</td>\n",
       "    </tr>\n",
       "    <tr>\n",
       "      <th>2</th>\n",
       "      <td>class_4</td>\n",
       "      <td>sub_15</td>\n",
       "      <td>assy_4</td>\n",
       "      <td>head_6</td>\n",
       "      <td>drive_12</td>\n",
       "      <td>thread_8</td>\n",
       "      <td>nom_5</td>\n",
       "      <td>point_19</td>\n",
       "      <td>heat_6</td>\n",
       "      <td>lock_3</td>\n",
       "      <td>plate_74</td>\n",
       "      <td>0</td>\n",
       "      <td>37.42</td>\n",
       "      <td>0.06101</td>\n",
       "    </tr>\n",
       "    <tr>\n",
       "      <th>3</th>\n",
       "      <td>class_0</td>\n",
       "      <td>sub_0</td>\n",
       "      <td>NaN</td>\n",
       "      <td>NaN</td>\n",
       "      <td>NaN</td>\n",
       "      <td>NaN</td>\n",
       "      <td>NaN</td>\n",
       "      <td>NaN</td>\n",
       "      <td>NaN</td>\n",
       "      <td>NaN</td>\n",
       "      <td>NaN</td>\n",
       "      <td>693</td>\n",
       "      <td>NaN</td>\n",
       "      <td>17.79297</td>\n",
       "    </tr>\n",
       "    <tr>\n",
       "      <th>4</th>\n",
       "      <td>class_0</td>\n",
       "      <td>sub_0</td>\n",
       "      <td>NaN</td>\n",
       "      <td>NaN</td>\n",
       "      <td>NaN</td>\n",
       "      <td>NaN</td>\n",
       "      <td>NaN</td>\n",
       "      <td>NaN</td>\n",
       "      <td>NaN</td>\n",
       "      <td>NaN</td>\n",
       "      <td>NaN</td>\n",
       "      <td>0</td>\n",
       "      <td>NaN</td>\n",
       "      <td>0.00769</td>\n",
       "    </tr>\n",
       "    <tr>\n",
       "      <th>5</th>\n",
       "      <td>class_0</td>\n",
       "      <td>sub_0</td>\n",
       "      <td>NaN</td>\n",
       "      <td>NaN</td>\n",
       "      <td>NaN</td>\n",
       "      <td>NaN</td>\n",
       "      <td>NaN</td>\n",
       "      <td>NaN</td>\n",
       "      <td>NaN</td>\n",
       "      <td>NaN</td>\n",
       "      <td>NaN</td>\n",
       "      <td>0</td>\n",
       "      <td>NaN</td>\n",
       "      <td>56.03889</td>\n",
       "    </tr>\n",
       "  </tbody>\n",
       "</table>\n",
       "</div>"
      ],
      "text/plain": [
       "     class     sub    assy    head     drive    thread    nom     point  \\\n",
       "1  class_8     NaN  assy_4     NaN       NaN       NaN    NaN       NaN   \n",
       "2  class_4  sub_15  assy_4  head_6  drive_12  thread_8  nom_5  point_19   \n",
       "3  class_0   sub_0     NaN     NaN       NaN       NaN    NaN       NaN   \n",
       "4  class_0   sub_0     NaN     NaN       NaN       NaN    NaN       NaN   \n",
       "5  class_0   sub_0     NaN     NaN       NaN       NaN    NaN       NaN   \n",
       "\n",
       "     heat    lock     plate  qty     mm      cost  \n",
       "1     NaN     NaN       NaN    0   0.00   0.05791  \n",
       "2  heat_6  lock_3  plate_74    0  37.42   0.06101  \n",
       "3     NaN     NaN       NaN  693    NaN  17.79297  \n",
       "4     NaN     NaN       NaN    0    NaN   0.00769  \n",
       "5     NaN     NaN       NaN    0    NaN  56.03889  "
      ]
     },
     "execution_count": 9,
     "metadata": {},
     "output_type": "execute_result"
    }
   ],
   "source": [
    "cat_dict={}\n",
    "\n",
    "for each in feat_label:\n",
    "    code = 'keys ='+'list(map(str,(df[each].unique()).tolist()))'\n",
    "    exec(code)\n",
    "    keys.sort()\n",
    "        \n",
    "    count= len(keys)\n",
    "    values = []\n",
    "    i=0\n",
    "    while i<count:\n",
    "        values.append(each+'_'+str(i))\n",
    "        i+=1\n",
    "    \n",
    "    each_dict={}\n",
    "    for k,v in zip(keys,values):\n",
    "        each_dict[k]=v\n",
    "        \n",
    "    cat_dict[each] = each_dict\n",
    "    \n",
    "cat_dict\n",
    "\n",
    "dfOUT = df[feat_label].copy()\n",
    "for each in feat_label:\n",
    "    dfOUT[each]=dfOUT[each].map(cat_dict[each])\n",
    "\n",
    "for each in feat_value:\n",
    "    dfOUT[each] = df[each]\n",
    "    \n",
    "dfOUT['cost'] = df[response]\n",
    "\n",
    "dfOUT.head()"
   ]
  },
  {
   "cell_type": "markdown",
   "metadata": {},
   "source": [
    "## WRITE  ANONYMIZED DATA"
   ]
  },
  {
   "cell_type": "code",
   "execution_count": 10,
   "metadata": {},
   "outputs": [],
   "source": [
    "dfOUT.to_excel(\"anonymous.xlsx\",sheet_name='anonymous')"
   ]
  },
  {
   "cell_type": "markdown",
   "metadata": {},
   "source": [
    "## GO TO FEATURE ENGINEERING\n",
    "Feature Engineering.ipynb"
   ]
  }
 ],
 "metadata": {
  "kernelspec": {
   "display_name": "Python 3",
   "language": "python",
   "name": "python3"
  },
  "language_info": {
   "codemirror_mode": {
    "name": "ipython",
    "version": 3
   },
   "file_extension": ".py",
   "mimetype": "text/x-python",
   "name": "python",
   "nbconvert_exporter": "python",
   "pygments_lexer": "ipython3",
   "version": "3.7.3"
  },
  "toc": {
   "base_numbering": 1,
   "nav_menu": {},
   "number_sections": true,
   "sideBar": true,
   "skip_h1_title": false,
   "title_cell": "Table of Contents",
   "title_sidebar": "Contents",
   "toc_cell": false,
   "toc_position": {
    "height": "calc(100% - 180px)",
    "left": "10px",
    "top": "150px",
    "width": "341.484px"
   },
   "toc_section_display": true,
   "toc_window_display": true
  }
 },
 "nbformat": 4,
 "nbformat_minor": 2
}
