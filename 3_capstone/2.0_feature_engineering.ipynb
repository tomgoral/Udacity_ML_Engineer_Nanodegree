{
 "cells": [
  {
   "cell_type": "markdown",
   "metadata": {},
   "source": [
    "## 2.0_feature_engineering\n",
    "\n",
    "by: Tom Goral"
   ]
  },
  {
   "cell_type": "markdown",
   "metadata": {},
   "source": [
    "## OUTLINE\n",
    "\n",
    "The purpose of this note book is to clean & prepare the anonymized data from  1.0_fetch_anonymize_ data.ipynb for application in a machine lerning model.\n",
    "\n",
    "- [PROJECT OVERVIEW](#PROJECT-OVERVIEW)\n",
    "- [PROBLEM STATEMENT](#PROBLEM-STATEMENT)\n",
    "\n",
    "1. [STEP 1: LOAD DATA](#STEP-1:-LOAD-DATA)\n",
    "2. [STEP 2: EXPLORE DATA](#STEP-2:-EXPLORE-DATA)\n",
    "3. [STEP 3: VISUALIZE DATA](#STEP-3:-VISUALIZE-DATA)\n",
    "4. [STEP 4: PREPROCESS DATA](#STEP-4:-PREPROCESS-DATA)\n",
    "5. [STEP 5: EXPORT PREPROCESSED FEATURES & RESULT](#STEP-5:-EXPORT-PREPROCESSED-FEATURES-&-RESULT)"
   ]
  },
  {
   "cell_type": "markdown",
   "metadata": {},
   "source": [
    "## PROJECT OVERVIEW\n",
    "The USMCA (Canada, Mexico, US) industrial fastener market is significant.  It is valued \\\\$19B today and is expected to grow at a 3% CAGR reaching $22B by 2025 \\[1] .  It’s a competitive market too with competent manufacturers and demanding customers that expect quick, competitive cost proposals for their custom requirements.  Today, custom fastener products require subject matter experts to accurately estimate the cost of each customer request.  This takes time with current tools and process. <br>\n",
    "\n",
    "\n",
    " As a product manager for a major fastener manufacturer, I am caught between timeliness and accuracy of cost proposals.  On the one hand, a timely cost estimate will please a customer.  On the other hand, an inaccurate cost estimate can frustrate a customer or backfire on the fastener manufacturer if the cost is too low!  A method to provide timely and accurate economic proposals is needed if our company wants to grow with this competitive market. \n",
    "\n",
    "\\[1] Freedonia, \"Global Industrial Fasteners,\" Freedonia, Cleveland, 2017. \n"
   ]
  },
  {
   "cell_type": "markdown",
   "metadata": {},
   "source": [
    "## PROBLEM STATEMENT\n",
    "It takes a week from the receipt of a customer request to respond with an economic proposal.  Most of the time is used researching each feature cost, summing the individual costs and validating the total cost.  Although it is accurate, the time to deliver the economic proposal exceeds the three-day preference of most major customers.  Delivering an accurate economic proposal within three days would open more opportunities to win new business.<br>\n",
    "\n",
    "One solution is to apply machine model regression to predict a cost using the features and costs of similar parts we make today. "
   ]
  },
  {
   "cell_type": "code",
   "execution_count": null,
   "metadata": {},
   "outputs": [],
   "source": [
    "# CUSTOM LIBRARIES\n",
    "from utilities.xl2df         import xl2df\n",
    "from utilities.hist_plot     import hist_plot\n",
    "from utilities.print_metrics import print_metrics\n",
    "from utilities.df2input      import df2input\n",
    "\n",
    "# STANDARD LIBRARIES\n",
    "import os\n",
    "import sys\n",
    "import numpy as np\n",
    "import pandas as pd\n",
    "\n",
    "import matplotlib\n",
    "import matplotlib.pyplot as plt\n",
    "%matplotlib inline\n",
    "import seaborn as sns\n",
    "\n",
    "import warnings\n",
    "warnings.filterwarnings(\"ignore\", category = UserWarning, module = \"matplotlib\")# Suppress matplotlib user warnings\n",
    "from IPython import get_ipython\n",
    "get_ipython().run_line_magic('matplotlib', 'inline')  # Display inline matplotlib plots with IPython\n",
    "\n",
    "from timeit import default_timer as timer\n",
    "import datetime\n",
    "now = datetime.datetime.now()"
   ]
  },
  {
   "cell_type": "markdown",
   "metadata": {},
   "source": [
    "## STEP 1: LOAD DATA\n",
    "Read in anonymized product data file."
   ]
  },
  {
   "cell_type": "code",
   "execution_count": null,
   "metadata": {},
   "outputs": [],
   "source": [
    "df = xl2df('data/anonymous.xlsx','anonymous',0)"
   ]
  },
  {
   "cell_type": "code",
   "execution_count": null,
   "metadata": {
    "scrolled": true
   },
   "outputs": [],
   "source": [
    "df.head()"
   ]
  },
  {
   "cell_type": "code",
   "execution_count": null,
   "metadata": {
    "scrolled": true
   },
   "outputs": [],
   "source": [
    "print(df.isnull().sum().sort_values(ascending=False))"
   ]
  },
  {
   "cell_type": "code",
   "execution_count": null,
   "metadata": {
    "scrolled": true
   },
   "outputs": [],
   "source": [
    "df.info()"
   ]
  },
  {
   "cell_type": "code",
   "execution_count": null,
   "metadata": {
    "scrolled": false
   },
   "outputs": [],
   "source": [
    "df.describe()"
   ]
  },
  {
   "cell_type": "markdown",
   "metadata": {},
   "source": [
    "## STEP 2: EXPLORE DATA\n",
    "\n",
    "* STATISTICS\n",
    "    * ROWS: 55,140\n",
    "    * COLS: 14\n",
    "    * CELLS: 771,960\n",
    "    * MAX NULLS:  SUB 8443<br><br>\n",
    "* FOURTEEN FEATURES make up each record or part.<br><br>\n",
    "* ELEVEN FEATURES are object columns describing each part.<br>\n",
    "![](feature_list.jpg)<br>\n",
    "    * The actual labels are kept confidential by applying generic labels through an \"Anonymizer\" program prior to this notebook.<br><br>\n",
    "* THREE FEATURES are numerical\n",
    "    * Column \"qty\" is an integer.  It defines the yearly consumption. \n",
    "    * Column \"mm\" is a float.  It defines the length of the part.  The \"Nom\" feature identified the cross sectional area.  Together they represent the parts volume or weight\n",
    "    * Column \"cost\" is the current cost for each part at one point in time. <br><br>\n",
    "* The index is set to the raw data index.  This will be useful to examine the confidential data when needed."
   ]
  },
  {
   "cell_type": "code",
   "execution_count": null,
   "metadata": {},
   "outputs": [],
   "source": [
    "x=df['qty']\n",
    "num_bins = 2000\n",
    "labels = {'title': 'HISTOGRAM of QUANTITY', 'ylabel': 'COUNT', 'xlabel': 'QUANTITY'}\n",
    "xy_max_min = {'ymin': 0, 'ymax': 10000, 'xmin': 0 , 'xmax': 500000}\n",
    "hist_plot(x, num_bins, labels, xy_max_min)"
   ]
  },
  {
   "cell_type": "code",
   "execution_count": null,
   "metadata": {},
   "outputs": [],
   "source": [
    "x=df['mm']\n",
    "num_bins = 40\n",
    "labels = {'title': 'HISTOGRAM of LENGTH', 'ylabel': 'COUNT', 'xlabel': 'LENGTH'}\n",
    "xy_max_min = {'ymin': 0, 'ymax': 10000, 'xmin': 0 , 'xmax': 500}\n",
    "hist_plot(x, num_bins, labels, xy_max_min)"
   ]
  },
  {
   "cell_type": "code",
   "execution_count": null,
   "metadata": {
    "scrolled": true
   },
   "outputs": [],
   "source": [
    "x=df['cost']\n",
    "num_bins = 100\n",
    "labels = {'title': 'HISTOGRAM of COST', 'ylabel': 'COUNT', 'xlabel': 'COST'}\n",
    "xy_max_min = {'ymin': 0, 'ymax': 10000, 'xmin': 0 , 'xmax':50 }\n",
    "hist_plot(x, num_bins, labels, xy_max_min)"
   ]
  },
  {
   "cell_type": "markdown",
   "metadata": {},
   "source": [
    "##  STEP 3: VISUALIZE DATA\n",
    "\n",
    "Its a pretty safe bet that typcial quote requests will be for more than 10,000 parts of an average size that cost less than \\\\$1 each.  Examining the data frame describe and plotting the bins of \"qty\", \"mm\" and \"cost\" alerts me to outliers.  Although some of these may be legitimate records, I will eliminate them since there are 55,000 records and the file was not originally intended for my application.  I will have higher fidelity of data doing this."
   ]
  },
  {
   "cell_type": "markdown",
   "metadata": {},
   "source": [
    "## STEP 4: PREPROCESS DATA\n",
    "\n",
    "Preproceseeing the data required the following.  First the features columns were identified and segmented into categorcial, numerical and ordinal groups.  The response was set to be the \"cost\".  From there all rows missing data were eliminated.  This dropped our record count by 13,248 from 55,140 to 41,892.  Outliers based on the numerical features were excluding leaving us with 7,965 records.  This is a large decline, but it assures us that we understand our data assumption. Lastly the categorical features were One-Hot-Encoded, OHE increasing our column count to 362.  The shape of our data went<br>\n",
    "\n",
    "|   DATA      |       ROWS       |     COLS            |   CELLS   |\n",
    "| :----------:| :--------------: | :-----------------: |:--------: |\n",
    "| RAW         |      55,140      |    14               | 771,960   |\n",
    "| PREPROCESSED|       7,965      |    362              | 2,883,330 |\n",
    "\n",
    "\n"
   ]
  },
  {
   "cell_type": "markdown",
   "metadata": {},
   "source": [
    "### Segment  features from responses in the data"
   ]
  },
  {
   "cell_type": "code",
   "execution_count": null,
   "metadata": {},
   "outputs": [],
   "source": [
    "categorical_features=['class', 'sub', 'assy', 'head', 'drive', 'thread',\n",
    "                      'nom', 'point', 'heat', 'lock', 'plate'] \n",
    "            \n",
    "numeric_features       = [\"qty\",\"mm\"]               # floats or integers\n",
    "ordinal_features       = []                         # unspecific scale high, medium, low\n",
    "response_label         = \"cost\"\n",
    "\n",
    "feature_columns        = categorical_features + numeric_features + ordinal_features\n",
    "feature_columns.append(response_label)\n",
    "\n",
    "features               = df[feature_columns]\n",
    "\n",
    "print(\"                original features shape:\",features.shape)\n",
    "features               = df[feature_columns].dropna()                # eliminate rows with any empty features\n",
    "print(\"eliminated empty records features shape:\",features.shape)"
   ]
  },
  {
   "cell_type": "markdown",
   "metadata": {},
   "source": [
    "###  Remove outliers\n",
    " \n",
    "* Restrict the data to records where the numerical data can be associated with real parts \n",
    "    *  10,000 >= \"qty\" >= 100,000,000\n",
    "    *  2 >=  \"mm\" >= 150 \n",
    "    *  0 >  \"cost\" >= 1.00"
   ]
  },
  {
   "cell_type": "code",
   "execution_count": null,
   "metadata": {},
   "outputs": [],
   "source": [
    "ranges = {'qty':[10000,100000000],'mm':[0,150], 'cost': [0, 1.0]}\n",
    "\n",
    "records2delete = []\n",
    "for key in ranges:\n",
    "    minValue = ranges[key][0]\n",
    "    maxValue = ranges[key][1]\n",
    "    a = (features[features[key] <minValue].index).tolist()\n",
    "    b = (features[features[key] >maxValue].index).tolist()\n",
    "    c = a+b\n",
    "    records2delete.extend(c)\n",
    "    \n",
    "features.drop(index=records2delete, inplace = True)\n",
    "print(\"    Eliminate Outside Range Features shape:\",features.shape)"
   ]
  },
  {
   "cell_type": "markdown",
   "metadata": {},
   "source": [
    "### Drop the response column & OHE categorical features"
   ]
  },
  {
   "cell_type": "code",
   "execution_count": null,
   "metadata": {},
   "outputs": [],
   "source": [
    "response = features[response_label]\n",
    "features.drop([response_label],axis=1, inplace =True)\n",
    "\n",
    "\n",
    "ohe_columns            = categorical_features + ordinal_features\n",
    "features               = pd.get_dummies(features, columns=ohe_columns)   # OHE categorical features\n",
    "print(\"OHE features shape:\",features.shape)"
   ]
  },
  {
   "cell_type": "markdown",
   "metadata": {},
   "source": [
    "##  STEP 5: EXPORT PREPROCESSED FEATURES & RESULT"
   ]
  },
  {
   "cell_type": "code",
   "execution_count": null,
   "metadata": {},
   "outputs": [],
   "source": [
    "features.to_excel(\"features.xlsx\",sheet_name='features')\n",
    "response.to_excel(\"response.xlsx\",sheet_name='response')"
   ]
  },
  {
   "cell_type": "markdown",
   "metadata": {},
   "source": [
    "##  GO TO:   3.0_train_deploy_model.ipynb"
   ]
  },
  {
   "cell_type": "code",
   "execution_count": null,
   "metadata": {},
   "outputs": [],
   "source": []
  }
 ],
 "metadata": {
  "kernelspec": {
   "display_name": "conda_amazonei_mxnet_p36",
   "language": "python",
   "name": "conda_amazonei_mxnet_p36"
  },
  "language_info": {
   "codemirror_mode": {
    "name": "ipython",
    "version": 3
   },
   "file_extension": ".py",
   "mimetype": "text/x-python",
   "name": "python",
   "nbconvert_exporter": "python",
   "pygments_lexer": "ipython3",
   "version": "3.6.10"
  },
  "toc": {
   "base_numbering": 1,
   "nav_menu": {},
   "number_sections": true,
   "sideBar": true,
   "skip_h1_title": false,
   "title_cell": "Table of Contents",
   "title_sidebar": "Contents",
   "toc_cell": false,
   "toc_position": {
    "height": "calc(100% - 180px)",
    "left": "10px",
    "top": "150px",
    "width": "184.453px"
   },
   "toc_section_display": true,
   "toc_window_display": true
  }
 },
 "nbformat": 4,
 "nbformat_minor": 2
}
